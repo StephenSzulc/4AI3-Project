{
  "nbformat": 4,
  "nbformat_minor": 0,
  "metadata": {
    "colab": {
      "provenance": [],
      "authorship_tag": "ABX9TyNGlVqiI5QfUKwNpDQoOeGZ",
      "include_colab_link": true
    },
    "kernelspec": {
      "name": "python3",
      "display_name": "Python 3"
    },
    "language_info": {
      "name": "python"
    }
  },
  "cells": [
    {
      "cell_type": "markdown",
      "metadata": {
        "id": "view-in-github",
        "colab_type": "text"
      },
      "source": [
        "<a href=\"https://colab.research.google.com/github/StephenSzulc/4AI3-Project/blob/visualization/4AI3_Project_ClassicalApproach.ipynb\" target=\"_parent\"><img src=\"https://colab.research.google.com/assets/colab-badge.svg\" alt=\"Open In Colab\"/></a>"
      ]
    },
    {
      "cell_type": "code",
      "execution_count": 1,
      "metadata": {
        "colab": {
          "base_uri": "https://localhost:8080/"
        },
        "id": "8S5iRSy08cFK",
        "outputId": "93714ae2-8a27-4ecc-e1d1-a6e83bf9598d"
      },
      "outputs": [
        {
          "output_type": "stream",
          "name": "stdout",
          "text": [
            "Downloading data from https://www.cs.toronto.edu/~kriz/cifar-10-python.tar.gz\n",
            "170498071/170498071 [==============================] - 8s 0us/step\n",
            "(50000, 32, 32, 3)\n",
            "(10000, 32, 32, 3)\n",
            "(50000, 1)\n",
            "(10000, 1)\n",
            "[[[ 59  62  63]\n",
            "  [ 43  46  45]\n",
            "  [ 50  48  43]\n",
            "  ...\n",
            "  [158 132 108]\n",
            "  [152 125 102]\n",
            "  [148 124 103]]\n",
            "\n",
            " [[ 16  20  20]\n",
            "  [  0   0   0]\n",
            "  [ 18   8   0]\n",
            "  ...\n",
            "  [123  88  55]\n",
            "  [119  83  50]\n",
            "  [122  87  57]]\n",
            "\n",
            " [[ 25  24  21]\n",
            "  [ 16   7   0]\n",
            "  [ 49  27   8]\n",
            "  ...\n",
            "  [118  84  50]\n",
            "  [120  84  50]\n",
            "  [109  73  42]]\n",
            "\n",
            " ...\n",
            "\n",
            " [[208 170  96]\n",
            "  [201 153  34]\n",
            "  [198 161  26]\n",
            "  ...\n",
            "  [160 133  70]\n",
            "  [ 56  31   7]\n",
            "  [ 53  34  20]]\n",
            "\n",
            " [[180 139  96]\n",
            "  [173 123  42]\n",
            "  [186 144  30]\n",
            "  ...\n",
            "  [184 148  94]\n",
            "  [ 97  62  34]\n",
            "  [ 83  53  34]]\n",
            "\n",
            " [[177 144 116]\n",
            "  [168 129  94]\n",
            "  [179 142  87]\n",
            "  ...\n",
            "  [216 184 140]\n",
            "  [151 118  84]\n",
            "  [123  92  72]]]\n",
            "[6]\n"
          ]
        }
      ],
      "source": [
        "#import\n",
        "from sklearn import linear_model\n",
        "import numpy as np\n",
        "import cv2\n",
        "import pandas as pd\n",
        "from tensorflow import keras\n",
        "from keras.datasets import cifar10\n",
        "from keras.datasets.cifar10 import load_data\n",
        "import matplotlib.pyplot as plt\n",
        "from sklearn.model_selection import train_test_split\n",
        "\n",
        "#set train and test\n",
        "(x_train, y_train), (x_test, y_test) = cifar10.load_data()\n",
        "\n",
        "#print shapes\n",
        "print(x_train.shape)\n",
        "print(x_test.shape)\n",
        "print(y_train.shape)\n",
        "print(y_test.shape)\n",
        "\n",
        "#print first value in arrays\n",
        "print(x_train[0])\n",
        "print(y_train[0])"
      ]
    },
    {
      "cell_type": "code",
      "source": [
        "# reshape x to 2D to use with linear regression\n",
        "x_train = x_train.reshape(50000, 32*32*3)\n",
        "x_test= x_test.reshape(10000, 32*32*3)\n",
        "\n",
        "#print to see new shape\n",
        "print(x_train.shape)\n",
        "print(x_train)"
      ],
      "metadata": {
        "colab": {
          "base_uri": "https://localhost:8080/"
        },
        "id": "tz5eDiRg8ori",
        "outputId": "c32d06c9-69d8-4415-ebef-6c1cb89e579f"
      },
      "execution_count": 2,
      "outputs": [
        {
          "output_type": "stream",
          "name": "stdout",
          "text": [
            "(50000, 3072)\n",
            "[[ 59  62  63 ... 123  92  72]\n",
            " [154 177 187 ... 143 133 144]\n",
            " [255 255 255 ...  80  86  84]\n",
            " ...\n",
            " [ 35 178 235 ...  12  31  50]\n",
            " [189 211 240 ... 195 190 171]\n",
            " [229 229 239 ... 163 163 161]]\n"
          ]
        }
      ]
    },
    {
      "cell_type": "code",
      "source": [
        "# fit model with training variables\n",
        "M_Linear = linear_model.LinearRegression()\n",
        "M_Linear.fit(x_train,y_train)\n",
        "\n",
        "# see score based on fitting\n",
        "M_Linear.score(x_test,y_test)"
      ],
      "metadata": {
        "colab": {
          "base_uri": "https://localhost:8080/"
        },
        "id": "cEy3PjcY8rsV",
        "outputId": "47c5e8f9-7fa6-4788-be6d-38a92f4ed5ee"
      },
      "execution_count": 3,
      "outputs": [
        {
          "output_type": "execute_result",
          "data": {
            "text/plain": [
              "0.02634806717868421"
            ]
          },
          "metadata": {},
          "execution_count": 3
        }
      ]
    }
  ]
}